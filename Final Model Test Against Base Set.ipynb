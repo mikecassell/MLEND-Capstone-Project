{
 "cells": [
  {
   "cell_type": "code",
   "execution_count": 7,
   "metadata": {
    "collapsed": false
   },
   "outputs": [],
   "source": [
    "from tflearn import *\n",
    "import tflearn\n",
    "import tensorflow as tf\n",
    "from PIL import Image\n",
    "from collections import Counter\n",
    "from glob import glob\n",
    "import numpy as np\n",
    "import cPickle\n",
    "names = {0:'airplane', 1:'automobile', 2:'bird', 3:'cat', 4:'deer', 5:'dog', 6:'frog', 7:'horse', 8:'ship', 9:'truck'}"
   ]
  },
  {
   "cell_type": "code",
   "execution_count": 2,
   "metadata": {
    "collapsed": false
   },
   "outputs": [
    {
     "name": "stdout",
     "output_type": "stream",
     "text": [
      "WARNING:tensorflow:tf.variable_op_scope(values, name, default_name) is deprecated, use tf.variable_scope(name, default_name, values)\n",
      "WARNING:tensorflow:tf.variable_op_scope(values, name, default_name) is deprecated, use tf.variable_scope(name, default_name, values)\n",
      "(?, 28, 28, 32)\n",
      "(?, 19, 19, 32)\n",
      "WARNING:tensorflow:tf.variable_op_scope(values, name, default_name) is deprecated, use tf.variable_scope(name, default_name, values)\n",
      "WARNING:tensorflow:tf.variable_op_scope(values, name, default_name) is deprecated, use tf.variable_scope(name, default_name, values)\n",
      "(?, 19, 19, 64)\n",
      "(?, 13, 13, 64)\n",
      "WARNING:tensorflow:tf.variable_op_scope(values, name, default_name) is deprecated, use tf.variable_scope(name, default_name, values)\n",
      "WARNING:tensorflow:tf.variable_op_scope(values, name, default_name) is deprecated, use tf.variable_scope(name, default_name, values)\n",
      "(?, 13, 13, 128)\n",
      "(?, 9, 9, 128)\n",
      "WARNING:tensorflow:tf.variable_op_scope(values, name, default_name) is deprecated, use tf.variable_scope(name, default_name, values)\n",
      "WARNING:tensorflow:tf.variable_op_scope(values, name, default_name) is deprecated, use tf.variable_scope(name, default_name, values)\n",
      "(?, 9, 9, 160)\n",
      "(?, 6, 6, 160)\n",
      "WARNING:tensorflow:tf.variable_op_scope(values, name, default_name) is deprecated, use tf.variable_scope(name, default_name, values)\n"
     ]
    }
   ],
   "source": [
    "# Build the network and restore the trained model\n",
    "imgAug = ImageAugmentation()\n",
    "imgAug.add_random_flip_leftright()\n",
    "imgAug.add_random_flip_updown()\n",
    "imgAug.add_random_crop((28, 28))\n",
    "\n",
    "imgPrep = ImagePreprocessing()\n",
    "imgPrep.add_crop_center((28, 28))\n",
    "imgPrep.add_zca_whitening\n",
    "\n",
    "# Model constructor\n",
    "def buildModel():\n",
    "    network = input_data(shape=[None, 28, 28, 3], data_augmentation=imgAug, data_preprocessing=imgPrep)\n",
    "    # CNN Block 1\n",
    "    network = conv_2d(network, 32, 3)\n",
    "    network = batch_normalization(network)\n",
    "    network = relu(network)\n",
    "    network = conv_2d(network, 32, 3)\n",
    "    network = batch_normalization(network)\n",
    "    network = relu(network)\n",
    "    print(network.get_shape())\n",
    "    network = tf.nn.fractional_max_pool(network, pooling_ratio=[1., 10/7., 10/7., 1.])[0]\n",
    "    print(network.get_shape())\n",
    "    \n",
    "    # CNN Block 2\n",
    "    network = conv_2d(network, 64, 3)\n",
    "    network = batch_normalization(network)\n",
    "    network = relu(network)\n",
    "    network = conv_2d(network, 64, 3)\n",
    "    network = batch_normalization(network)\n",
    "    network = relu(network)\n",
    "    print(network.get_shape())\n",
    "    network = tf.nn.fractional_max_pool(network, pooling_ratio=[1., 10/7., 10/7., 1.])[0]\n",
    "    print(network.get_shape())\n",
    "    \n",
    "    # CNN Block 3\n",
    "    network = conv_2d(network, 128, 3)\n",
    "    network = batch_normalization(network)\n",
    "    network = relu(network)\n",
    "    network = conv_2d(network, 128, 3)\n",
    "    network = batch_normalization(network)\n",
    "    network = relu(network)\n",
    "    print(network.get_shape())\n",
    "    network = tf.nn.fractional_max_pool(network, pooling_ratio=[1., 10/7., 10/7., 1.])[0]\n",
    "    print(network.get_shape())\n",
    "    \n",
    "    # CNN Block 4\n",
    "    network = conv_2d(network, 160, 3)\n",
    "    network = batch_normalization(network)\n",
    "    network = relu(network)\n",
    "    network = conv_2d(network, 160, 3)\n",
    "    network = batch_normalization(network)\n",
    "    network = relu(network)\n",
    "    print(network.get_shape())\n",
    "    network = tf.nn.fractional_max_pool(network, pooling_ratio=[1., 10/7., 10/7., 1.])[0]\n",
    "    print(network.get_shape())\n",
    "    \n",
    "    # FC Block 1\n",
    "    network = dropout(network, 0.5)\n",
    "    network = fully_connected(network, 512, activation='relu')\n",
    "    network = batch_normalization(network)\n",
    "    network = fully_connected(network, 10, activation='softmax')\n",
    "    network = regression(network, optimizer='Adam',\n",
    "                         loss='categorical_crossentropy',\n",
    "                         learning_rate=0.05)\n",
    "    return network\n",
    "\n",
    "net = buildModel()\n",
    "model = tflearn.DNN(net, tensorboard_verbose=0)\n",
    "model.load('./Final/model.tflearn')"
   ]
  },
  {
   "cell_type": "code",
   "execution_count": 3,
   "metadata": {
    "collapsed": true
   },
   "outputs": [],
   "source": [
    "# File loader from CIFAR10 website\n",
    "def unpickle(file):\n",
    "    fo = open(file, 'rb')\n",
    "    dict = cPickle.load(fo)\n",
    "    fo.close()\n",
    "    return dict"
   ]
  },
  {
   "cell_type": "code",
   "execution_count": 4,
   "metadata": {
    "collapsed": false
   },
   "outputs": [],
   "source": [
    "# Load the test batch provided on the CIFAR10 site\n",
    "data = unpickle('./Ver/test_batch')\n",
    "xflat = data['data']\n",
    "y = data['labels']"
   ]
  },
  {
   "cell_type": "code",
   "execution_count": 5,
   "metadata": {
    "collapsed": false
   },
   "outputs": [],
   "source": [
    "# Reshape the images into the 2d with 3 color channels and trim to size\n",
    "x = []\n",
    "for i in range(0,len(xflat)):\n",
    "    im = np.reshape(xflat[i], (32,32,3), order='F')\n",
    "    im = np.array(Image.fromarray(im).resize((28, 28)).rotate(270))\n",
    "    x.append(im / 255.)"
   ]
  },
  {
   "cell_type": "code",
   "execution_count": 6,
   "metadata": {
    "collapsed": false
   },
   "outputs": [],
   "source": [
    "r = []\n",
    "l = []\n",
    "batch_size = 500\n",
    "\n",
    "for iteration in range(0, 10):\n",
    "    for b in range(0, 10000, batch_size):\n",
    "        batch = x[b : (b + batch_size)]\n",
    "        batch_labels = y[b : (b + batch_size)]\n",
    "        r.extend(model.predict(batch))\n",
    "        l.extend(batch_labels)"
   ]
  },
  {
   "cell_type": "code",
   "execution_count": 9,
   "metadata": {
    "collapsed": false
   },
   "outputs": [],
   "source": [
    "results = {'pred':r, 'act':l}\n",
    "cPickle.dump(results, file('basecomp.pkl','w'))"
   ]
  }
 ],
 "metadata": {
  "kernelspec": {
   "display_name": "Python 2",
   "language": "python",
   "name": "python2"
  },
  "language_info": {
   "codemirror_mode": {
    "name": "ipython",
    "version": 2
   },
   "file_extension": ".py",
   "mimetype": "text/x-python",
   "name": "python",
   "nbconvert_exporter": "python",
   "pygments_lexer": "ipython2",
   "version": "2.7.12"
  }
 },
 "nbformat": 4,
 "nbformat_minor": 1
}
