{
 "cells": [
  {
   "cell_type": "code",
   "execution_count": 1,
   "metadata": {
    "collapsed": true
   },
   "outputs": [],
   "source": [
    "from glob import glob\n",
    "from PIL import Image\n",
    "import pandas as pd"
   ]
  },
  {
   "cell_type": "code",
   "execution_count": 2,
   "metadata": {
    "collapsed": true
   },
   "outputs": [],
   "source": [
    "imgs = glob('./Data/train/*')"
   ]
  },
  {
   "cell_type": "code",
   "execution_count": 3,
   "metadata": {
    "collapsed": false
   },
   "outputs": [
    {
     "name": "stdout",
     "output_type": "stream",
     "text": [
      "/bin/sh: 1: Syntax error: Unterminated quoted string\r\n"
     ]
    }
   ],
   "source": [
    "! ls '/Data/train/"
   ]
  },
  {
   "cell_type": "code",
   "execution_count": 4,
   "metadata": {
    "collapsed": false
   },
   "outputs": [],
   "source": [
    "df = pd.read_csv('./Data/train/training.tsv', delimiter='\\t', header=None)\n",
    "df.columns = ['File','Label']"
   ]
  },
  {
   "cell_type": "code",
   "execution_count": 5,
   "metadata": {
    "collapsed": false
   },
   "outputs": [
    {
     "name": "stdout",
     "output_type": "stream",
     "text": [
      "File     ./Data/train/1.png\n",
      "Label                     6\n",
      "Name: 0, dtype: object\n",
      "File     ./Data/train/2.png\n",
      "Label                     9\n",
      "Name: 1, dtype: object\n",
      "File     ./Data/train/4.png\n",
      "Label                     4\n",
      "Name: 3, dtype: object\n",
      "File     ./Data/train/5.png\n",
      "Label                     1\n",
      "Name: 4, dtype: object\n",
      "File     ./Data/train/7.png\n",
      "Label                     2\n",
      "Name: 6, dtype: object\n",
      "File     ./Data/train/8.png\n",
      "Label                     7\n",
      "Name: 7, dtype: object\n",
      "File     ./Data/train/9.png\n",
      "Label                     8\n",
      "Name: 8, dtype: object\n",
      "File     ./Data/train/10.png\n",
      "Label                      3\n",
      "Name: 9, dtype: object\n",
      "File     ./Data/train/28.png\n",
      "Label                      5\n",
      "Name: 27, dtype: object\n",
      "File     ./Data/train/30.png\n",
      "Label                      0\n",
      "Name: 29, dtype: object\n"
     ]
    }
   ],
   "source": [
    "res = {}\n",
    "for k, v in df.T.iteritems():\n",
    "    if v['Label'] not in res:\n",
    "        print(v)\n",
    "        res[v['Label']] = v['File']"
   ]
  },
  {
   "cell_type": "code",
   "execution_count": 7,
   "metadata": {
    "collapsed": false
   },
   "outputs": [],
   "source": [
    "from shutil import copyfile\n",
    "for f in range(0,10):\n",
    "    copyfile(res[f], str(f) + '.png')\n"
   ]
  },
  {
   "cell_type": "code",
   "execution_count": 8,
   "metadata": {
    "collapsed": false
   },
   "outputs": [
    {
     "data": {
      "text/plain": [
       "Label\n",
       "0    5000\n",
       "1    5000\n",
       "2    5000\n",
       "3    5000\n",
       "4    5000\n",
       "5    5000\n",
       "6    5000\n",
       "7    5000\n",
       "8    5000\n",
       "9    5000\n",
       "dtype: int64"
      ]
     },
     "execution_count": 8,
     "metadata": {},
     "output_type": "execute_result"
    }
   ],
   "source": [
    "df.groupby(['Label']).size()"
   ]
  }
 ],
 "metadata": {
  "kernelspec": {
   "display_name": "Python 2",
   "language": "python",
   "name": "python2"
  },
  "language_info": {
   "codemirror_mode": {
    "name": "ipython",
    "version": 2
   },
   "file_extension": ".py",
   "mimetype": "text/x-python",
   "name": "python",
   "nbconvert_exporter": "python",
   "pygments_lexer": "ipython2",
   "version": "2.7.12"
  }
 },
 "nbformat": 4,
 "nbformat_minor": 0
}
