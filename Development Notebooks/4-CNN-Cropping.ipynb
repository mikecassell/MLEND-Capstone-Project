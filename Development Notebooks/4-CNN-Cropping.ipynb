{
 "cells": [
  {
   "cell_type": "code",
   "execution_count": 1,
   "metadata": {
    "collapsed": false
   },
   "outputs": [],
   "source": [
    "# https://github.com/scienceai/neocortex/blob/master/examples/cifar10_cnn/cifar10_cnn_example.ipynb\n",
    "\n",
    "import sys\n",
    "sys.path.append('./modules/')\n",
    "\n",
    "# from customLayers import conv_2d_BN, fully_connected_BN\n",
    "from testing import testModel\n",
    "from helpers import prepareRun \n",
    "import tflearn\n",
    "from tflearn.layers import batch_normalization, local_response_normalization\n",
    "from tflearn.data_utils import image_preloader\n",
    "from tflearn.optimizers import momentum, Adam\n",
    "from tflearn.activations import softmax, relu\n",
    "from tflearn.layers.core import input_data, dropout\n",
    "from tflearn.layers import max_pool_2d, regression, conv_2d, fully_connected\n",
    "from tflearn.data_augmentation import * \n",
    "from tflearn.data_preprocessing import *\n",
    "from tflearn.data_utils import LabelPreloader, ImagePreloader, Preloader\n",
    "tf.GraphKeys.LAYER_TENSOR = 'layer_tensor'"
   ]
  },
  {
   "cell_type": "code",
   "execution_count": 2,
   "metadata": {
    "collapsed": false
   },
   "outputs": [],
   "source": [
    "struct = prepareRun('3-CNN-Cropping')"
   ]
  },
  {
   "cell_type": "code",
   "execution_count": 3,
   "metadata": {
    "collapsed": false
   },
   "outputs": [],
   "source": [
    "x, y = image_preloader('./Data/train/training.tsv', categorical_labels=True,\n",
    "                              image_shape=[32, 32, 3], mode='file', normalize=True)"
   ]
  },
  {
   "cell_type": "code",
   "execution_count": 4,
   "metadata": {
    "collapsed": false
   },
   "outputs": [],
   "source": [
    "imgAug = ImageAugmentation()\n",
    "imgAug.add_random_flip_leftright()\n",
    "imgAug.add_random_flip_updown()\n",
    "imgAug.add_random_crop((28, 28))\n",
    "\n",
    "imgPrep = ImagePreprocessing()\n",
    "imgPrep.add_crop_center((28, 28))\n",
    "# Model constructor\n",
    "def buildModel():\n",
    "    network = input_data(shape=[None, 28, 28, 3], data_augmentation=imgAug, data_preprocessing=imgPrep)\n",
    "    # CNN Block 1\n",
    "    network = conv_2d(network, 32, 3)\n",
    "    network = relu(network)\n",
    "    network = conv_2d(network, 32, 3)\n",
    "    network = relu(network)\n",
    "    network = max_pool_2d(network, 2, 2)\n",
    "    network = dropout(network, 0.7)\n",
    "    \n",
    "    # CNN Block 2\n",
    "    network = conv_2d(network, 64, 3)\n",
    "    network = relu(network)\n",
    "    network = conv_2d(network, 64, 3)\n",
    "    network = relu(network)\n",
    "    network = max_pool_2d(network, 2, 2)\n",
    "    network = dropout(network, 0.7)\n",
    "    \n",
    "    # CNN Block 3\n",
    "    network = conv_2d(network, 128, 3)\n",
    "    network = relu(network)\n",
    "    network = conv_2d(network, 128, 3)\n",
    "    network = relu(network)\n",
    "    network = max_pool_2d(network, 2, 2)\n",
    "    \n",
    "    # FC Block 1\n",
    "    network = dropout(network, 0.5)\n",
    "    network = fully_connected(network, 512, activation='relu')\n",
    "    network = dropout(network, 0.5)\n",
    "    network = fully_connected(network, 10, activation='softmax')\n",
    "    network = regression(network, optimizer='Adam',\n",
    "                         loss='categorical_crossentropy',\n",
    "                         learning_rate=0.001)\n",
    "    return network\n",
    "# Initialize the model and build the trainer:\n",
    "net = buildModel()"
   ]
  },
  {
   "cell_type": "code",
   "execution_count": 5,
   "metadata": {
    "collapsed": false,
    "scrolled": true
   },
   "outputs": [
    {
     "name": "stdout",
     "output_type": "stream",
     "text": [
      "Training Step: 90112  | total loss: \u001b[1m\u001b[32m0.82900\u001b[0m\u001b[0m\n",
      "| Adam | epoch: 128 | loss: 0.82900 - acc: 0.7041 -- iter: 45000/45000\n",
      "Starting predictions\n",
      "Predictions done, saving file.\n"
     ]
    }
   ],
   "source": [
    "model = tflearn.DNN(net, max_checkpoints=10, tensorboard_verbose=1,\n",
    "                    checkpoint_path=struct['Checkpoints'], tensorboard_dir=struct['Tensorboard'])\n",
    "\n",
    "# Train the model - keep 10% (or 5000 images) as a validation set to gauge training effectiveness\n",
    "model.fit(x, y, n_epoch=128, \n",
    "              validation_set=0.10, \n",
    "              shuffle=True, \n",
    "              show_metric=True, \n",
    "              batch_size=64,\n",
    "              snapshot_step=1000, \n",
    "              snapshot_epoch=False, run_id=struct['run'])\n",
    "\n",
    "model.save(struct['Saves'] + struct['run'])\n",
    "\n",
    "results = testModel(model, './Data/test/*.png', struct['base'], struct['run'], save_to_csv=True)"
   ]
  },
  {
   "cell_type": "code",
   "execution_count": null,
   "metadata": {
    "collapsed": true
   },
   "outputs": [],
   "source": [
    "# https://www.kaggle.com/c/cifar-10/leaderboard?submissionId=3621718\n",
    "# 0.74420"
   ]
  }
 ],
 "metadata": {
  "kernelspec": {
   "display_name": "Python 2",
   "language": "python",
   "name": "python2"
  },
  "language_info": {
   "codemirror_mode": {
    "name": "ipython",
    "version": 2
   },
   "file_extension": ".py",
   "mimetype": "text/x-python",
   "name": "python",
   "nbconvert_exporter": "python",
   "pygments_lexer": "ipython2",
   "version": "2.7.12"
  }
 },
 "nbformat": 4,
 "nbformat_minor": 0
}
