{
 "cells": [
  {
   "cell_type": "code",
   "execution_count": 1,
   "metadata": {
    "collapsed": false
   },
   "outputs": [],
   "source": [
    "import itertools\n",
    "import numpy as np\n",
    "import cPickle as pickle\n",
    "from collections import Counter\n",
    "import pandas as pd"
   ]
  },
  {
   "cell_type": "code",
   "execution_count": 2,
   "metadata": {
    "collapsed": false
   },
   "outputs": [],
   "source": [
    "# Load the various data points\n",
    "names = {0:'airplane', 1:'automobile', 2:'bird', 3:'cat', 4:'deer', 5:'dog', 6:'frog', 7:'horse', 8:'ship', 9:'truck'}\n",
    "classes = [names[c] for c in names]\n",
    "data = pickle.load(file('./Kagglecomp.pkl','r'))"
   ]
  },
  {
   "cell_type": "code",
   "execution_count": 3,
   "metadata": {
    "collapsed": false,
    "scrolled": true
   },
   "outputs": [],
   "source": [
    "# Transform the data from raw predictions to votes and to the final decision\n",
    "num = 300000\n",
    "passes = 10\n",
    "results = {}\n",
    "preds = []\n",
    "for x in range(0,numOfRecs):\n",
    "    results[x] = {}\n",
    "\n",
    "val = 0\n",
    "\n",
    "for x in range(0, rec_len * passes, rec_len):\n",
    "    # Get the highest prob. from each prediction using argmax\n",
    "    thisBatch = [np.argmax(n, 0) for n in data['pred'][x : x + rec_len]]\n",
    "    cntr = 0\n",
    "    # Store each prediction in the right spot in our results \n",
    "    for thisNode in thisBatch:\n",
    "        results[cntr][x/rec_len] = thisNode \n",
    "        cntr += 1\n",
    "\n",
    "# Condense the results by getting the prediction w the most votes.\n",
    "for r in results:\n",
    "    j = []\n",
    "    for i in results[r]:\n",
    "        j.append(results[r][i])\n",
    "    preds.append(Counter(j).most_common()[0][0])"
   ]
  },
  {
   "cell_type": "code",
   "execution_count": 5,
   "metadata": {
    "collapsed": false
   },
   "outputs": [],
   "source": [
    "# Generate the upload file\n",
    "comb = zip(data['act'],preds)\n",
    "df = pd.DataFrame(comb)\n",
    "df[0] = df[0].apply(lambda f: int(f.split('/')[3].replace('.png','')))\n",
    "df[1] = df[1].apply(lambda v: names[v])\n",
    "df = df.sort_values([0])\n",
    "df.to_csv('final.output.csv', header=['id','label'], index=None)"
   ]
  }
 ],
 "metadata": {
  "kernelspec": {
   "display_name": "Python 2",
   "language": "python",
   "name": "python2"
  },
  "language_info": {
   "codemirror_mode": {
    "name": "ipython",
    "version": 2
   },
   "file_extension": ".py",
   "mimetype": "text/x-python",
   "name": "python",
   "nbconvert_exporter": "python",
   "pygments_lexer": "ipython2",
   "version": "2.7.12"
  }
 },
 "nbformat": 4,
 "nbformat_minor": 1
}
