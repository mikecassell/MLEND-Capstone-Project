{
 "cells": [
  {
   "cell_type": "code",
   "execution_count": 2,
   "metadata": {
    "collapsed": false
   },
   "outputs": [
    {
     "name": "stdout",
     "output_type": "stream",
     "text": [
      "hdf5 not supported (please install/reinstall h5py)\n",
      "Scipy not supported!\n"
     ]
    }
   ],
   "source": [
    "# https://github.com/scienceai/neocortex/blob/master/examples/cifar10_cnn/cifar10_cnn_example.ipynb\n",
    "\n",
    "import sys\n",
    "sys.path.append('./modules/')\n",
    "import tensorflow as tf\n",
    "\n",
    "# from customLayers import conv_2d_BN, fully_connected_BN\n",
    "from testing import testModel\n",
    "from helpers import prepareRun \n",
    "import tflearn\n",
    "from tflearn.layers import batch_normalization, local_response_normalization\n",
    "from tflearn.data_utils import image_preloader\n",
    "\n",
    "from tflearn.optimizers import momentum, Adam\n",
    "from tflearn.activations import softmax, relu\n",
    "from tflearn.layers.core import input_data, dropout\n",
    "from tflearn.layers import max_pool_2d, regression, conv_2d, fully_connected\n",
    "from tflearn.data_augmentation import * \n",
    "from tflearn.data_preprocessing import *\n",
    "# from tflearn.data_utils import LabelPreloader, ImagePreloader, Preloader\n",
    "tf.GraphKeys.LAYER_TENSOR = 'layer_tensor'\n",
    "\n",
    "# https://www.kaggle.com/c/cifar-10/leaderboard?submissionId=3619756\n",
    "# 81.750\n"
   ]
  },
  {
   "cell_type": "code",
   "execution_count": 5,
   "metadata": {
    "collapsed": false
   },
   "outputs": [
    {
     "name": "stdout",
     "output_type": "stream",
     "text": [
      "{'base': './models/9-CNN-FracMaxPooling-b/', 'run': '9-CNN-FracMaxPooling-b', 'Checkpoints': './models/9-CNN-FracMaxPooling-b/Checkpoints/', 'Tensorboard': './models/9-CNN-FracMaxPooling-b/Tensorboard/', 'Saves': './models/9-CNN-FracMaxPooling-b/Saves/'}\n"
     ]
    }
   ],
   "source": [
    "struct = prepareRun('9-CNN-FracMaxPooling-b')\n",
    "\n",
    "print(struct)"
   ]
  },
  {
   "cell_type": "code",
   "execution_count": 3,
   "metadata": {
    "collapsed": false
   },
   "outputs": [
    {
     "name": "stdout",
     "output_type": "stream",
     "text": [
      "Training Step: 115200  | total loss: \u001b[1m\u001b[32m0.30789\u001b[0m\u001b[0m\n",
      "\u001b[2K\r",
      "| Adam | epoch: 256 | loss: 0.30789 - acc: 0.8994 -- iter: 45000/45000\n"
     ]
    }
   ],
   "source": [
    "imgAug = ImageAugmentation()\n",
    "imgAug.add_random_flip_leftright()\n",
    "imgAug.add_random_flip_updown()\n",
    "imgAug.add_random_crop((28, 28))\n",
    "\n",
    "imgPrep = ImagePreprocessing()\n",
    "imgPrep.add_crop_center((28, 28))\n",
    "imgPrep.add_zca_whitening\n",
    "\n",
    "# Model constructor\n",
    "def buildModel():\n",
    "    network = input_data(shape=[None, 28, 28, 3], data_augmentation=imgAug, data_preprocessing=imgPrep)\n",
    "    # CNN Block 1\n",
    "    network = conv_2d(network, 32, 3)\n",
    "    network = batch_normalization(network)\n",
    "    network = relu(network)\n",
    "    network = conv_2d(network, 32, 3)\n",
    "    network = batch_normalization(network)\n",
    "    network = relu(network)\n",
    "    print(network.get_shape())\n",
    "    network = tf.nn.fractional_max_pool(network, pooling_ratio=[1., 10/7., 10/7., 1.])[0]\n",
    "    print(network.get_shape())\n",
    "    \n",
    "    # CNN Block 2\n",
    "    network = conv_2d(network, 64, 3)\n",
    "    network = batch_normalization(network)\n",
    "    network = relu(network)\n",
    "    network = conv_2d(network, 64, 3)\n",
    "    network = batch_normalization(network)\n",
    "    network = relu(network)\n",
    "    print(network.get_shape())\n",
    "    network = tf.nn.fractional_max_pool(network, pooling_ratio=[1., 10/7., 10/7., 1.])[0]\n",
    "    print(network.get_shape())\n",
    "    \n",
    "    # CNN Block 3\n",
    "    network = conv_2d(network, 128, 3)\n",
    "    network = batch_normalization(network)\n",
    "    network = relu(network)\n",
    "    network = conv_2d(network, 128, 3)\n",
    "    network = batch_normalization(network)\n",
    "    network = relu(network)\n",
    "    print(network.get_shape())\n",
    "    network = tf.nn.fractional_max_pool(network, pooling_ratio=[1., 10/7., 10/7., 1.])[0]\n",
    "    print(network.get_shape())\n",
    "    \n",
    "    # CNN Block 3\n",
    "    network = conv_2d(network, 160, 3)\n",
    "    network = batch_normalization(network)\n",
    "    network = relu(network)\n",
    "    network = conv_2d(network, 160, 3)\n",
    "    network = batch_normalization(network)\n",
    "    network = relu(network)\n",
    "    print(network.get_shape())\n",
    "    network = tf.nn.fractional_max_pool(network, pooling_ratio=[1., 10/7., 10/7., 1.])[0]\n",
    "    print(network.get_shape())\n",
    "    \n",
    "    # FC Block 1\n",
    "    network = dropout(network, 0.5)\n",
    "    network = fully_connected(network, 512, activation='relu')\n",
    "    network = batch_normalization(network)\n",
    "    network = fully_connected(network, 10, activation='softmax')\n",
    "    network = regression(network, optimizer='Adam',\n",
    "                         loss='categorical_crossentropy',\n",
    "                         learning_rate=0.05)\n",
    "    return network\n",
    "# Initialize the model and build the trainer:\n",
    "\n",
    "net = buildModel()\n",
    "model = tflearn.DNN(net, max_checkpoints=10, tensorboard_verbose=0,\n",
    "                checkpoint_path=struct['Checkpoints'], tensorboard_dir=struct['Tensorboard'])\n",
    "\n",
    "# Train the model - keep 10% (or 5000 images) as a validation set to gauge training effectiveness\n",
    "model.fit(x, y, n_epoch=256, \n",
    "              validation_set=0.10, \n",
    "              shuffle=True, \n",
    "              show_metric=True, \n",
    "              batch_size=100,\n",
    "              snapshot_step=1000, \n",
    "              snapshot_epoch=False, run_id=struct['run'])\n",
    "\n",
    "model.save(struct['Saves'] + struct['run'])\n",
    "\n"
   ]
  },
  {
   "cell_type": "code",
   "execution_count": 4,
   "metadata": {
    "collapsed": false
   },
   "outputs": [
    {
     "name": "stdout",
     "output_type": "stream",
     "text": [
      "Starting predictions\n",
      "Predictions done, saving file.\n"
     ]
    }
   ],
   "source": [
    "results = testModel(model, './Data/test/*.png', struct['base'], struct['run'], save_to_csv=True)"
   ]
  },
  {
   "cell_type": "code",
   "execution_count": null,
   "metadata": {
    "collapsed": true
   },
   "outputs": [],
   "source": []
  },
  {
   "cell_type": "code",
   "execution_count": 6,
   "metadata": {
    "collapsed": false
   },
   "outputs": [
    {
     "data": {
      "text/plain": [
       "'./models/9-CNN-FracMaxPooling-b/Saves/9-CNN-FracMaxPooling-b'"
      ]
     },
     "execution_count": 6,
     "metadata": {},
     "output_type": "execute_result"
    }
   ],
   "source": [
    "struct['Saves'] + struct['run']\n",
    "# 128 epochs @ 0.05\n",
    "# https://www.kaggle.com/c/cifar-10/leaderboard?submissionId=3632127\n",
    "# 80.750"
   ]
  },
  {
   "cell_type": "code",
   "execution_count": null,
   "metadata": {
    "collapsed": true
   },
   "outputs": [],
   "source": [
    "# 4th layer:\n",
    "# https://www.kaggle.com/c/cifar-10/leaderboard?submissionId=3636655\n",
    "# 85.500"
   ]
  },
  {
   "cell_type": "code",
   "execution_count": null,
   "metadata": {
    "collapsed": true
   },
   "outputs": [],
   "source": [
    "# 4th layer w 10 pass eval:\n",
    "# https://www.kaggle.com/c/cifar-10/leaderboard?submissionId=3638230\n",
    "# 88.10"
   ]
  },
  {
   "cell_type": "code",
   "execution_count": 141,
   "metadata": {
    "collapsed": true
   },
   "outputs": [],
   "source": [
    "from PIL import Image\n",
    "import numpy as np\n",
    "import pandas as pd\n",
    "from glob import glob\n",
    "names = {0:'airplane', 1:'automobile', 2:'bird', 3:'cat', 4:'deer', 5:'dog', 6:'frog', 7:'horse', 8:'ship', 9:'truck'}"
   ]
  },
  {
   "cell_type": "code",
   "execution_count": 133,
   "metadata": {
    "collapsed": false
   },
   "outputs": [],
   "source": [
    "files = glob('./Ver/*.png')\n",
    "proc = []\n",
    "\n",
    "for f in files[:10]:\n",
    "    files.append(f)\n",
    "    i = Image.open(f)\n",
    "    i = i.crop(box=[2, 2, 30, 30])\n",
    "    i = np.array(i)  / 255.\n",
    "    proc.append(i)\n",
    "proc = np.array(proc)"
   ]
  },
  {
   "cell_type": "code",
   "execution_count": 134,
   "metadata": {
    "collapsed": false
   },
   "outputs": [],
   "source": [
    "r = model.predict(proc)"
   ]
  },
  {
   "cell_type": "code",
   "execution_count": 135,
   "metadata": {
    "collapsed": false
   },
   "outputs": [],
   "source": [
    "results = zip(r[:9], files)"
   ]
  },
  {
   "cell_type": "code",
   "execution_count": 137,
   "metadata": {
    "collapsed": false
   },
   "outputs": [
    {
     "name": "stdout",
     "output_type": "stream",
     "text": [
      "Starting predictions\n",
      "Starting predictions\n",
      "Starting predictions\n",
      "Starting predictions\n",
      "Starting predictions\n",
      "Starting predictions\n",
      "Starting predictions\n",
      "Starting predictions\n",
      "Starting predictions\n",
      "Starting predictions\n"
     ]
    }
   ],
   "source": [
    "files = glob('./Data/test/*.png')\n",
    "names = {0:'airplane', 1:'automobile', 2:'bird', 3:'cat', 4:'deer', 5:'dog', 6:'frog', 7:'horse', 8:'ship', 9:'truck'}\n",
    "\n",
    "results = []\n",
    "for run in range(0, 10):\n",
    "    n = 300000\n",
    "    test_batch = 1000\n",
    "    print('Starting predictions')\n",
    "    for x in range(0, n / test_batch):\n",
    "        images = files[x * test_batch: (x * test_batch) + test_batch]\n",
    "        thisBatch = []\n",
    "        for img in images:\n",
    "            thisBatch.append(np.asarray(Image.open(img), dtype=\"float32\") / 255.0)\n",
    "\n",
    "        preds = model.predict(thisBatch)\n",
    "        for i in range(0, test_batch):\n",
    "            p = np.argmax(preds[i], 0) \n",
    "            results.append([run, images[i].split('/')[-1].split('.')[0], preds[i]])\n"
   ]
  },
  {
   "cell_type": "code",
   "execution_count": 143,
   "metadata": {
    "collapsed": false
   },
   "outputs": [],
   "source": [
    "df = pd.DataFrame(results)"
   ]
  },
  {
   "cell_type": "code",
   "execution_count": 236,
   "metadata": {
    "collapsed": false
   },
   "outputs": [
    {
     "name": "stderr",
     "output_type": "stream",
     "text": [
      "/home/mike/anaconda2/envs/tf11/lib/python2.7/site-packages/ipykernel/__main__.py:4: SettingWithCopyWarning: \n",
      "A value is trying to be set on a copy of a slice from a DataFrame.\n",
      "Try using .loc[row_indexer,col_indexer] = value instead\n",
      "\n",
      "See the caveats in the documentation: http://pandas.pydata.org/pandas-docs/stable/indexing.html#indexing-view-versus-copy\n"
     ]
    }
   ],
   "source": [
    "for l in range(1, 10):\n",
    "    temp = df[df[0] <= l]\n",
    "    for c in range(0,10):\n",
    "        temp['r' + str(c)] = temp[2].apply(lambda x: x[c])\n",
    "\n",
    "    s = temp.groupby(1).agg({'r0':np.mean,'r1':np.mean,'r2':np.mean,'r3':np.mean,'r4':np.mean,\n",
    "                       'r5':np.mean,'r6':np.mean,'r7':np.mean,'r8':np.mean, 'r9':np.mean})\n",
    "    s = s.reset_index()\n",
    "    s[1] = s[1].apply(lambda x: int(x))\n",
    "    s = s[[1,'r0','r1','r2','r3','r4','r5','r6','r7','r8','r9']].sort_values(1)\n",
    "    filenames = s[1]\n",
    "    recs = np.array(s[['r0','r1','r2','r3','r4','r5','r6','r7','r8','r9']])\n",
    "    recs = zip(filenames, np.argmax(recs, 1))\n",
    "    final = [[r[0], names[r[1]]] for r in recs]\n",
    "    pd.DataFrame(final).to_csv('multirun' + str(l + 1) + '.csv', index=None, header=['id','label'])"
   ]
  },
  {
   "cell_type": "code",
   "execution_count": 234,
   "metadata": {
    "collapsed": false
   },
   "outputs": [],
   "source": []
  }
 ],
 "metadata": {
  "kernelspec": {
   "display_name": "Python 2",
   "language": "python",
   "name": "python2"
  },
  "language_info": {
   "codemirror_mode": {
    "name": "ipython",
    "version": 2
   },
   "file_extension": ".py",
   "mimetype": "text/x-python",
   "name": "python",
   "nbconvert_exporter": "python",
   "pygments_lexer": "ipython2",
   "version": "2.7.12"
  }
 },
 "nbformat": 4,
 "nbformat_minor": 0
}
