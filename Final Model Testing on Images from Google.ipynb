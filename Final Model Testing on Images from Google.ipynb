{
 "cells": [
  {
   "cell_type": "code",
   "execution_count": 1,
   "metadata": {
    "collapsed": false
   },
   "outputs": [
    {
     "name": "stdout",
     "output_type": "stream",
     "text": [
      "hdf5 not supported (please install/reinstall h5py)\n",
      "Scipy not supported!\n"
     ]
    }
   ],
   "source": [
    "from tflearn import *\n",
    "import tflearn\n",
    "import tensorflow as tf\n",
    "from PIL import Image\n",
    "from collections import Counter\n",
    "from glob import glob\n",
    "import numpy as np\n",
    "\n",
    "names = {0:'airplane', 1:'automobile', 2:'bird', 3:'cat', 4:'deer', 5:'dog', 6:'frog', 7:'horse', 8:'ship', 9:'truck'}"
   ]
  },
  {
   "cell_type": "code",
   "execution_count": 2,
   "metadata": {
    "collapsed": false
   },
   "outputs": [
    {
     "name": "stdout",
     "output_type": "stream",
     "text": [
      "WARNING:tensorflow:tf.variable_op_scope(values, name, default_name) is deprecated, use tf.variable_scope(name, default_name, values)\n",
      "WARNING:tensorflow:tf.variable_op_scope(values, name, default_name) is deprecated, use tf.variable_scope(name, default_name, values)\n",
      "(?, 28, 28, 32)\n",
      "(?, 19, 19, 32)\n",
      "WARNING:tensorflow:tf.variable_op_scope(values, name, default_name) is deprecated, use tf.variable_scope(name, default_name, values)\n",
      "WARNING:tensorflow:tf.variable_op_scope(values, name, default_name) is deprecated, use tf.variable_scope(name, default_name, values)\n",
      "(?, 19, 19, 64)\n",
      "(?, 13, 13, 64)\n",
      "WARNING:tensorflow:tf.variable_op_scope(values, name, default_name) is deprecated, use tf.variable_scope(name, default_name, values)\n",
      "WARNING:tensorflow:tf.variable_op_scope(values, name, default_name) is deprecated, use tf.variable_scope(name, default_name, values)\n",
      "(?, 13, 13, 128)\n",
      "(?, 9, 9, 128)\n",
      "WARNING:tensorflow:tf.variable_op_scope(values, name, default_name) is deprecated, use tf.variable_scope(name, default_name, values)\n",
      "WARNING:tensorflow:tf.variable_op_scope(values, name, default_name) is deprecated, use tf.variable_scope(name, default_name, values)\n",
      "(?, 9, 9, 160)\n",
      "(?, 6, 6, 160)\n",
      "WARNING:tensorflow:tf.variable_op_scope(values, name, default_name) is deprecated, use tf.variable_scope(name, default_name, values)\n"
     ]
    }
   ],
   "source": [
    "# Build the network and restore the trained model\n",
    "imgAug = ImageAugmentation()\n",
    "imgAug.add_random_flip_leftright()\n",
    "imgAug.add_random_flip_updown()\n",
    "imgAug.add_random_crop((28, 28))\n",
    "\n",
    "imgPrep = ImagePreprocessing()\n",
    "imgPrep.add_crop_center((28, 28))\n",
    "imgPrep.add_zca_whitening\n",
    "\n",
    "# Model constructor\n",
    "def buildModel():\n",
    "    network = input_data(shape=[None, 28, 28, 3], data_augmentation=imgAug, data_preprocessing=imgPrep)\n",
    "    # CNN Block 1\n",
    "    network = conv_2d(network, 32, 3)\n",
    "    network = batch_normalization(network)\n",
    "    network = relu(network)\n",
    "    network = conv_2d(network, 32, 3)\n",
    "    network = batch_normalization(network)\n",
    "    network = relu(network)\n",
    "    print(network.get_shape())\n",
    "    network = tf.nn.fractional_max_pool(network, pooling_ratio=[1., 10/7., 10/7., 1.])[0]\n",
    "    print(network.get_shape())\n",
    "    \n",
    "    # CNN Block 2\n",
    "    network = conv_2d(network, 64, 3)\n",
    "    network = batch_normalization(network)\n",
    "    network = relu(network)\n",
    "    network = conv_2d(network, 64, 3)\n",
    "    network = batch_normalization(network)\n",
    "    network = relu(network)\n",
    "    print(network.get_shape())\n",
    "    network = tf.nn.fractional_max_pool(network, pooling_ratio=[1., 10/7., 10/7., 1.])[0]\n",
    "    print(network.get_shape())\n",
    "    \n",
    "    # CNN Block 3\n",
    "    network = conv_2d(network, 128, 3)\n",
    "    network = batch_normalization(network)\n",
    "    network = relu(network)\n",
    "    network = conv_2d(network, 128, 3)\n",
    "    network = batch_normalization(network)\n",
    "    network = relu(network)\n",
    "    print(network.get_shape())\n",
    "    network = tf.nn.fractional_max_pool(network, pooling_ratio=[1., 10/7., 10/7., 1.])[0]\n",
    "    print(network.get_shape())\n",
    "    \n",
    "    # CNN Block 3\n",
    "    network = conv_2d(network, 160, 3)\n",
    "    network = batch_normalization(network)\n",
    "    network = relu(network)\n",
    "    network = conv_2d(network, 160, 3)\n",
    "    network = batch_normalization(network)\n",
    "    network = relu(network)\n",
    "    print(network.get_shape())\n",
    "    network = tf.nn.fractional_max_pool(network, pooling_ratio=[1., 10/7., 10/7., 1.])[0]\n",
    "    print(network.get_shape())\n",
    "    \n",
    "    # FC Block 1\n",
    "    network = dropout(network, 0.5)\n",
    "    network = fully_connected(network, 512, activation='relu')\n",
    "    network = batch_normalization(network)\n",
    "    network = fully_connected(network, 10, activation='softmax')\n",
    "    network = regression(network, optimizer='Adam',\n",
    "                         loss='categorical_crossentropy',\n",
    "                         learning_rate=0.05)\n",
    "    return network\n",
    "\n",
    "net = buildModel()\n",
    "model = tflearn.DNN(net, tensorboard_verbose=0)\n",
    "model.load('./Final/model.tflearn')"
   ]
  },
  {
   "cell_type": "code",
   "execution_count": 4,
   "metadata": {
    "collapsed": false
   },
   "outputs": [
    {
     "name": "stdout",
     "output_type": "stream",
     "text": [
      "([(6, 7)], 'frog', './Web/frog.jpg', 'Right')\n",
      "([(9, 7)], 'truck', './Web/truck.jpg', 'Right')\n",
      "([(4, 10)], 'deer', './Web/deer.jpg', 'Right')\n",
      "([(5, 10)], 'dog', './Web/dog.jpg', 'Right')\n",
      "([(8, 6)], 'ship', './Web/ship.jpg', 'Right')\n",
      "([(7, 10)], 'horse', './Web/horse.jpg', 'Right')\n",
      "([(2, 7)], 'bird', './Web/bird.jpg', 'Right')\n",
      "([(0, 10)], 'airplane', './Web/airplane.jpg', 'Right')\n",
      "([(3, 6)], 'cat', './Web/cat.jpg', 'Right')\n",
      "([(0, 5)], 'airplane', './Web/automobile.jpg', 'Wrong')\n",
      "Completed, 9 out of 10 correct\n"
     ]
    }
   ],
   "source": [
    "# Load the Images\n",
    "images = glob('./Web/*')\n",
    "loaded = []\n",
    "for i in images:\n",
    "    loaded.append([Image.open(i), i])\n",
    "    \n",
    "# Voting Predictions - test each image ten times and select the mode\n",
    "correct = 0\n",
    "count = len(loaded)\n",
    "for i in range(0, count):\n",
    "    im = np.array(loaded[i][0].resize((28,28))) / 255.\n",
    "    predicted = [model.predict([im])[0] for r in range(0, 10)] \n",
    "    p = [np.argmax(x) for x in predicted]\n",
    "    c = Counter(p)\n",
    "    predicted = names[c.most_common(1)[0][0]]\n",
    "    filename = loaded[i][1]\n",
    "    status = 'Wrong'\n",
    "    if predicted in filename:\n",
    "        status = 'Right'\n",
    "        correct +=1\n",
    "    print(c.most_common(1), predicted, filename, status )\n",
    "    \n",
    "print('Completed, {} out of {} correct'.format(correct, count))"
   ]
  }
 ],
 "metadata": {
  "kernelspec": {
   "display_name": "Python 2",
   "language": "python",
   "name": "python2"
  },
  "language_info": {
   "codemirror_mode": {
    "name": "ipython",
    "version": 2
   },
   "file_extension": ".py",
   "mimetype": "text/x-python",
   "name": "python",
   "nbconvert_exporter": "python",
   "pygments_lexer": "ipython2",
   "version": "2.7.12"
  }
 },
 "nbformat": 4,
 "nbformat_minor": 1
}
