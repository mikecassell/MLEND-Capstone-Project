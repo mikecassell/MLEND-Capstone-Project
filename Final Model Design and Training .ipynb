{
 "cells": [
  {
   "cell_type": "code",
   "execution_count": null,
   "metadata": {
    "collapsed": false
   },
   "outputs": [],
   "source": [
    "import sys\n",
    "sys.path.append('./modules/')\n",
    "from testing import testModel\n",
    "from helpers import prepareRun \n",
    "\n",
    "import tensorflow as tf\n",
    "\n",
    "import tflearn\n",
    "from tflearn.layers import batch_normalization, local_response_normalization\n",
    "from tflearn.data_utils import image_preloader\n",
    "from tflearn.optimizers import momentum, Adam\n",
    "from tflearn.activations import softmax, relu\n",
    "from tflearn.layers.core import input_data, dropout\n",
    "from tflearn.layers import max_pool_2d, regression, conv_2d, fully_connected\n",
    "from tflearn.data_augmentation import * \n",
    "from tflearn.data_preprocessing import *\n",
    "tf.GraphKeys.LAYER_TENSOR = 'layer_tensor'"
   ]
  },
  {
   "cell_type": "code",
   "execution_count": null,
   "metadata": {
    "collapsed": false
   },
   "outputs": [],
   "source": [
    "# Generate Folder Structure\n",
    "struct = prepareRun('Final')\n",
    "# Load the training data\n",
    "x, y = image_preloader('./Data/train/training.tsv', categorical_labels=True,\n",
    "                              image_shape=[32, 32, 3], mode='file', normalize=True)"
   ]
  },
  {
   "cell_type": "code",
   "execution_count": null,
   "metadata": {
    "collapsed": false
   },
   "outputs": [],
   "source": [
    "# Create augmentation pipeline with flipping on both axis and then random cropping\n",
    "imgAug = ImageAugmentation()\n",
    "imgAug.add_random_flip_leftright()\n",
    "imgAug.add_random_flip_updown()\n",
    "imgAug.add_random_crop((28, 28))\n",
    "\n",
    "# Create prep pipeline - crop (already done on the training set) and add ZCA whitening\n",
    "imgPrep = ImagePreprocessing()\n",
    "imgPrep.add_crop_center((28, 28))\n",
    "imgPrep.add_zca_whitening\n",
    "\n",
    "# Model constructor\n",
    "def buildModel():\n",
    "    network = input_data(shape=[None, 28, 28, 3], data_augmentation=imgAug, data_preprocessing=imgPrep)\n",
    "    # All conv blocks follow the format with slowly increasing filter depths:\n",
    "    # Convolution - BN - RELU - Convolution - BN - RELU - FMP\n",
    "    \n",
    "    # CNN Block 1\n",
    "    network = conv_2d(network, 32, 3)\n",
    "    network = batch_normalization(network)\n",
    "    network = relu(network)\n",
    "    network = conv_2d(network, 32, 3)\n",
    "    network = batch_normalization(network)\n",
    "    network = relu(network)\n",
    "    print(network.get_shape())\n",
    "    network = tf.nn.fractional_max_pool(network, pooling_ratio=[1., 10/7., 10/7., 1.])[0]\n",
    "    print(network.get_shape())\n",
    "    \n",
    "    # CNN Block 2\n",
    "    network = conv_2d(network, 64, 3)\n",
    "    network = batch_normalization(network)\n",
    "    network = relu(network)\n",
    "    network = conv_2d(network, 64, 3)\n",
    "    network = batch_normalization(network)\n",
    "    network = relu(network)\n",
    "    print(network.get_shape())\n",
    "    network = tf.nn.fractional_max_pool(network, pooling_ratio=[1., 10/7., 10/7., 1.])[0]\n",
    "    print(network.get_shape())\n",
    "    \n",
    "    # CNN Block 3\n",
    "    network = conv_2d(network, 128, 3)\n",
    "    network = batch_normalization(network)\n",
    "    network = relu(network)\n",
    "    network = conv_2d(network, 128, 3)\n",
    "    network = batch_normalization(network)\n",
    "    network = relu(network)\n",
    "    print(network.get_shape())\n",
    "    network = tf.nn.fractional_max_pool(network, pooling_ratio=[1., 10/7., 10/7., 1.])[0]\n",
    "    print(network.get_shape())\n",
    "    \n",
    "    # CNN Block 4\n",
    "    network = conv_2d(network, 160, 3)\n",
    "    network = batch_normalization(network)\n",
    "    network = relu(network)\n",
    "    network = conv_2d(network, 160, 3)\n",
    "    network = batch_normalization(network)\n",
    "    network = relu(network)\n",
    "    print(network.get_shape())\n",
    "    network = tf.nn.fractional_max_pool(network, pooling_ratio=[1., 10/7., 10/7., 1.])[0]\n",
    "    print(network.get_shape())\n",
    "    \n",
    "    # FC Block 1\n",
    "    network = dropout(network, 0.5)\n",
    "    network = fully_connected(network, 512, activation='relu')\n",
    "    network = batch_normalization(network)\n",
    "    network = fully_connected(network, 10, activation='softmax')\n",
    "    network = regression(network, optimizer='Adam',\n",
    "                         loss='categorical_crossentropy',\n",
    "                         learning_rate=0.05)\n",
    "    return network\n",
    "\n",
    "# Initialize the model and build the trainer:\n",
    "net = buildModel()\n",
    "model = tflearn.DNN(net, max_checkpoints=10, tensorboard_verbose=0,\n",
    "                checkpoint_path=struct['Checkpoints'], tensorboard_dir=struct['Tensorboard'])\n",
    "\n",
    "# Train the model - keep 10% (or 5000 images) as a validation set to gauge training effectiveness\n",
    "model.fit(x, y, n_epoch=256, \n",
    "              validation_set=0.10, \n",
    "              shuffle=True, \n",
    "              show_metric=True, \n",
    "              batch_size=100,\n",
    "              snapshot_step=1000, \n",
    "              snapshot_epoch=False, run_id=struct['run'])\n",
    "\n",
    "# Save the model\n",
    "model.save('./Final/model.tflearn')"
   ]
  },
  {
   "cell_type": "code",
   "execution_count": null,
   "metadata": {
    "collapsed": false
   },
   "outputs": [],
   "source": [
    "# Single pass results - multipass moved to its own workbook for clarity\n",
    "results = testModel(model, './Data/test/*.png', struct['base'], struct['run'], save_to_csv=True)"
   ]
  },
  {
   "cell_type": "code",
   "execution_count": null,
   "metadata": {
    "collapsed": true
   },
   "outputs": [],
   "source": [
    "# 4th layer w 10 pass eval:\n",
    "# https://www.kaggle.com/c/cifar-10/leaderboard?submissionId=3638230\n",
    "# 88.10"
   ]
  }
 ],
 "metadata": {
  "kernelspec": {
   "display_name": "Python 2",
   "language": "python",
   "name": "python2"
  },
  "language_info": {
   "codemirror_mode": {
    "name": "ipython",
    "version": 2
   },
   "file_extension": ".py",
   "mimetype": "text/x-python",
   "name": "python",
   "nbconvert_exporter": "python",
   "pygments_lexer": "ipython2",
   "version": "2.7.12"
  }
 },
 "nbformat": 4,
 "nbformat_minor": 0
}
